{
 "cells": [
  {
   "cell_type": "code",
   "execution_count": 2,
   "metadata": {},
   "outputs": [],
   "source": [
    "import numpy as np"
   ]
  },
  {
   "cell_type": "code",
   "execution_count": 3,
   "metadata": {},
   "outputs": [
    {
     "name": "stdout",
     "output_type": "stream",
     "text": [
      "[1 2 3 4 5] <class 'numpy.ndarray'>\n"
     ]
    }
   ],
   "source": [
    "list_nilai = [20,40,60,80]\n",
    "arr = np.array([1,2,3,4,5])\n",
    "print(arr, type(arr))"
   ]
  },
  {
   "cell_type": "code",
   "execution_count": 5,
   "metadata": {},
   "outputs": [
    {
     "name": "stdout",
     "output_type": "stream",
     "text": [
      "[20 40 60 80] <class 'numpy.ndarray'>\n"
     ]
    }
   ],
   "source": [
    "arr = np.array(list_nilai)\n",
    "print(arr, type(arr))"
   ]
  },
  {
   "cell_type": "code",
   "execution_count": 9,
   "metadata": {},
   "outputs": [
    {
     "name": "stdout",
     "output_type": "stream",
     "text": [
      "[[1. 1. 1.]\n",
      " [1. 1. 1.]\n",
      " [1. 1. 1.]\n",
      " [1. 1. 1.]\n",
      " [1. 1. 1.]] <class 'numpy.ndarray'>\n"
     ]
    }
   ],
   "source": [
    "arr = np.ones((5,3))\n",
    "print(arr, type(arr))"
   ]
  },
  {
   "cell_type": "code",
   "execution_count": 16,
   "metadata": {},
   "outputs": [
    {
     "name": "stdout",
     "output_type": "stream",
     "text": [
      "[ 5 10 15 20 25 30 35 40 45] [4.67296746e-307 1.69121096e-306 2.31420855e-306 1.89146896e-307\n",
      " 7.56571288e-307 3.11525958e-307 1.24610723e-306 1.29061142e-306\n",
      " 5.53353523e-322]\n"
     ]
    }
   ],
   "source": [
    "arr = np.arange(5,50,5)\n",
    "print(arr, type(arr) (arr.shape))"
   ]
  },
  {
   "cell_type": "code",
   "execution_count": 19,
   "metadata": {},
   "outputs": [
    {
     "name": "stdout",
     "output_type": "stream",
     "text": [
      "[20, 40, 60, 80]\n"
     ]
    }
   ],
   "source": [
    "print(list_nilai)"
   ]
  },
  {
   "cell_type": "code",
   "execution_count": 21,
   "metadata": {},
   "outputs": [
    {
     "name": "stdout",
     "output_type": "stream",
     "text": [
      "[ 5 10 15 20 25 30 35 40 45]\n"
     ]
    }
   ],
   "source": [
    "print(arr)"
   ]
  },
  {
   "cell_type": "code",
   "execution_count": 23,
   "metadata": {},
   "outputs": [
    {
     "name": "stdout",
     "output_type": "stream",
     "text": [
      "20\n"
     ]
    }
   ],
   "source": [
    "print(arr[3])"
   ]
  },
  {
   "cell_type": "code",
   "execution_count": 27,
   "metadata": {},
   "outputs": [],
   "source": [
    "nilai = np.array([[1 , 2, 3, 4], [5, 6, 7, 8], [9, 10, 11, 12]])"
   ]
  },
  {
   "cell_type": "code",
   "execution_count": 28,
   "metadata": {},
   "outputs": [
    {
     "data": {
      "text/plain": [
       "array([[ 1,  2,  3,  4],\n",
       "       [ 5,  6,  7,  8],\n",
       "       [ 9, 10, 11, 12]])"
      ]
     },
     "execution_count": 28,
     "metadata": {},
     "output_type": "execute_result"
    }
   ],
   "source": [
    "nilai"
   ]
  },
  {
   "cell_type": "code",
   "execution_count": 29,
   "metadata": {},
   "outputs": [
    {
     "name": "stdout",
     "output_type": "stream",
     "text": [
      "[[ 5  6  7  8]\n",
      " [ 9 10 11 12]]\n"
     ]
    }
   ],
   "source": [
    "print(nilai[1:3])"
   ]
  },
  {
   "cell_type": "code",
   "execution_count": 34,
   "metadata": {},
   "outputs": [
    {
     "data": {
      "text/plain": [
       "array([ 5, 10, 15, 20, 25, 30, 35, 40, 45])"
      ]
     },
     "execution_count": 34,
     "metadata": {},
     "output_type": "execute_result"
    }
   ],
   "source": [
    "arr"
   ]
  },
  {
   "cell_type": "code",
   "execution_count": 36,
   "metadata": {},
   "outputs": [
    {
     "name": "stdout",
     "output_type": "stream",
     "text": [
      "20\n"
     ]
    }
   ],
   "source": [
    "print(arr[3])"
   ]
  },
  {
   "cell_type": "code",
   "execution_count": 37,
   "metadata": {},
   "outputs": [
    {
     "name": "stdout",
     "output_type": "stream",
     "text": [
      "[[ 1  2  3  4]\n",
      " [ 5  6  7  8]\n",
      " [ 9 10 11 12]]\n"
     ]
    }
   ],
   "source": [
    "print(nilai)"
   ]
  },
  {
   "cell_type": "code",
   "execution_count": 39,
   "metadata": {},
   "outputs": [
    {
     "name": "stdout",
     "output_type": "stream",
     "text": [
      "[[20 25 30]\n",
      " [35 40 45]]\n"
     ]
    }
   ],
   "source": [
    "arr = np.arange(20,50,5).reshape((2,3))\n",
    "print(arr)"
   ]
  },
  {
   "cell_type": "code",
   "execution_count": 44,
   "metadata": {},
   "outputs": [
    {
     "name": "stdout",
     "output_type": "stream",
     "text": [
      "[[20 25 30]\n",
      " [35 40 45]]\n"
     ]
    }
   ],
   "source": [
    "arr2 = np.arange(20,50,5).reshape((2,3))\n",
    "print(arr2)"
   ]
  },
  {
   "cell_type": "code",
   "execution_count": 45,
   "metadata": {},
   "outputs": [
    {
     "data": {
      "text/plain": [
       "array([[40, 50, 60],\n",
       "       [70, 80, 90]])"
      ]
     },
     "execution_count": 45,
     "metadata": {},
     "output_type": "execute_result"
    }
   ],
   "source": [
    "arr + arr2"
   ]
  },
  {
   "cell_type": "code",
   "execution_count": 46,
   "metadata": {},
   "outputs": [
    {
     "name": "stdout",
     "output_type": "stream",
     "text": [
      "[[177 149 146  64  37]\n",
      " [138 160 108 155  10]\n",
      " [ 53 176 177  67  65]]\n"
     ]
    }
   ],
   "source": [
    "arr = (np.random.random((3,5)) * 200).astype(int)\n",
    "print(arr)"
   ]
  },
  {
   "cell_type": "code",
   "execution_count": 51,
   "metadata": {},
   "outputs": [
    {
     "name": "stdout",
     "output_type": "stream",
     "text": [
      "1682\n",
      "[368 485 431 286 112]\n",
      "[573 571 538]\n"
     ]
    }
   ],
   "source": [
    "print(arr.sum())\n",
    "print(arr.sum(axis=0))\n",
    "print(arr.sum(axis=1))\n"
   ]
  },
  {
   "cell_type": "code",
   "execution_count": 72,
   "metadata": {},
   "outputs": [
    {
     "name": "stdout",
     "output_type": "stream",
     "text": [
      "112.13333333333334\n",
      "[122.66666667 161.66666667 143.66666667  95.33333333  37.33333333]\n"
     ]
    },
    {
     "ename": "AttributeError",
     "evalue": "'NoneType' object has no attribute 'astype'",
     "output_type": "error",
     "traceback": [
      "\u001b[1;31m---------------------------------------------------------------------------\u001b[0m",
      "\u001b[1;31mAttributeError\u001b[0m                            Traceback (most recent call last)",
      "\u001b[1;32mc:\\Users\\razan\\Documents\\VS\\sesi 3\\s3.ipynb Cell 20\u001b[0m in \u001b[0;36m<cell line: 2>\u001b[1;34m()\u001b[0m\n\u001b[0;32m      <a href='vscode-notebook-cell:/c%3A/Users/razan/Documents/VS/sesi%203/s3.ipynb#ch0000027?line=0'>1</a>\u001b[0m \u001b[39mprint\u001b[39m(arr\u001b[39m.\u001b[39mmean())\n\u001b[1;32m----> <a href='vscode-notebook-cell:/c%3A/Users/razan/Documents/VS/sesi%203/s3.ipynb#ch0000027?line=1'>2</a>\u001b[0m \u001b[39mprint\u001b[39;49m((arr\u001b[39m.\u001b[39;49mmean(axis\u001b[39m=\u001b[39;49m\u001b[39m0\u001b[39;49m)))\u001b[39m.\u001b[39;49mastype(\u001b[39mint\u001b[39m)\n\u001b[0;32m      <a href='vscode-notebook-cell:/c%3A/Users/razan/Documents/VS/sesi%203/s3.ipynb#ch0000027?line=2'>3</a>\u001b[0m \u001b[39mprint\u001b[39m(arr\u001b[39m.\u001b[39mmean(axis\u001b[39m=\u001b[39m\u001b[39m1\u001b[39m))\n",
      "\u001b[1;31mAttributeError\u001b[0m: 'NoneType' object has no attribute 'astype'"
     ]
    }
   ],
   "source": [
    "print(arr.mean())\n",
    "print((arr.mean(axis=0))).astype(int)\n",
    "print(arr.mean(axis=1))"
   ]
  },
  {
   "cell_type": "code",
   "execution_count": 54,
   "metadata": {},
   "outputs": [],
   "source": [
    "#berlaku untuk max min juga"
   ]
  },
  {
   "cell_type": "code",
   "execution_count": 55,
   "metadata": {},
   "outputs": [
    {
     "name": "stdout",
     "output_type": "stream",
     "text": [
      "[[177 149 146  64  37]\n",
      " [138 160 108 155  10]\n",
      " [ 53 176 177  67  65]]\n"
     ]
    }
   ],
   "source": [
    "print(arr)"
   ]
  },
  {
   "cell_type": "code",
   "execution_count": 57,
   "metadata": {},
   "outputs": [
    {
     "name": "stdout",
     "output_type": "stream",
     "text": [
      "[146  64 138 160 108  10 176]\n"
     ]
    }
   ],
   "source": [
    "divisible_by_2 = (arr % 2 == 0)\n",
    "print(arr[divisible_by_2])"
   ]
  },
  {
   "cell_type": "code",
   "execution_count": 58,
   "metadata": {},
   "outputs": [
    {
     "name": "stdout",
     "output_type": "stream",
     "text": [
      "[177 149  37 155  53 177  67  65]\n"
     ]
    }
   ],
   "source": [
    "odd = (arr % 2 != 0)\n",
    "print(arr[odd])"
   ]
  },
  {
   "cell_type": "code",
   "execution_count": 59,
   "metadata": {},
   "outputs": [
    {
     "name": "stdout",
     "output_type": "stream",
     "text": [
      "[177 149 155 177]\n"
     ]
    }
   ],
   "source": [
    "odd = (arr % 2 != 0)\n",
    "big = (arr >100)\n",
    "print (arr[odd & big])"
   ]
  },
  {
   "cell_type": "code",
   "execution_count": 6,
   "metadata": {},
   "outputs": [
    {
     "name": "stdout",
     "output_type": "stream",
     "text": [
      "[[10000]\n",
      " [15000]\n",
      " [20000]]\n"
     ]
    }
   ],
   "source": [
    "arr_harga_jual = np.array([ [10000],\n",
    "                            [15000],\n",
    "                            [20000]])\n",
    "print (arr_harga_jual)"
   ]
  },
  {
   "cell_type": "code",
   "execution_count": 4,
   "metadata": {},
   "outputs": [
    {
     "name": "stdout",
     "output_type": "stream",
     "text": [
      "[[2 3 2]\n",
      " [5 4 3]\n",
      " [6 2 4]\n",
      " [7 1 6]\n",
      " [4 4 2]]\n"
     ]
    }
   ],
   "source": [
    "arr_penjualan = np.array(\n",
    "    [   [2, 5, 6, 7, 4],\n",
    "        [3, 4, 2, 1, 4],\n",
    "        [2, 3, 4, 6, 2]])\n",
    "\n",
    "arr_penjualan = arr_penjualan.T\n",
    "print (arr_penjualan)"
   ]
  },
  {
   "cell_type": "code",
   "execution_count": 7,
   "metadata": {},
   "outputs": [
    {
     "data": {
      "text/plain": [
       "array([[105000],\n",
       "       [170000],\n",
       "       [170000],\n",
       "       [205000],\n",
       "       [140000]])"
      ]
     },
     "execution_count": 7,
     "metadata": {},
     "output_type": "execute_result"
    }
   ],
   "source": [
    "arr_penjualan.dot(arr_harga_jual)"
   ]
  },
  {
   "cell_type": "code",
   "execution_count": 22,
   "metadata": {},
   "outputs": [
    {
     "name": "stdout",
     "output_type": "stream",
     "text": [
      "[[2 5 6 7 4]\n",
      " [3 4 2 1 4]\n",
      " [2 3 4 6 2]]\n"
     ]
    }
   ],
   "source": [
    "arr_penjualan = arr_penjualan.T\n",
    "print (arr_penjualan)"
   ]
  },
  {
   "cell_type": "code",
   "execution_count": 23,
   "metadata": {},
   "outputs": [
    {
     "name": "stdout",
     "output_type": "stream",
     "text": [
      "[[10000 15000 20000]]\n"
     ]
    }
   ],
   "source": [
    "arr_harga_jual = arr_harga_jual.T\n",
    "print (arr_harga_jual)"
   ]
  },
  {
   "cell_type": "code",
   "execution_count": 24,
   "metadata": {},
   "outputs": [
    {
     "data": {
      "text/plain": [
       "array([[105000, 170000, 170000, 205000, 140000]])"
      ]
     },
     "execution_count": 24,
     "metadata": {},
     "output_type": "execute_result"
    }
   ],
   "source": [
    "arr_harga_jual.dot(arr_penjualan)"
   ]
  }
 ],
 "metadata": {
  "kernelspec": {
   "display_name": "Python 3.9.12 ('base')",
   "language": "python",
   "name": "python3"
  },
  "language_info": {
   "codemirror_mode": {
    "name": "ipython",
    "version": 3
   },
   "file_extension": ".py",
   "mimetype": "text/x-python",
   "name": "python",
   "nbconvert_exporter": "python",
   "pygments_lexer": "ipython3",
   "version": "3.9.12"
  },
  "orig_nbformat": 4,
  "vscode": {
   "interpreter": {
    "hash": "411a98914648b34de253bf8d89182a484df870a31de62eaab77640ae7bc597a0"
   }
  }
 },
 "nbformat": 4,
 "nbformat_minor": 2
}
